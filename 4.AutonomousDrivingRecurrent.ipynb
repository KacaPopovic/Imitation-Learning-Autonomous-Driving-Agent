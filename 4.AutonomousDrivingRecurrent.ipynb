{
 "cells": [
  {
   "cell_type": "markdown",
   "metadata": {},
   "source": [
    "# Assignment 5: Autonomous Driving (Part 3)"
   ]
  },
  {
   "attachments": {},
   "cell_type": "markdown",
   "metadata": {},
   "source": [
    "In this assignment, the goal is to try different configurations for the assignment Autonomous Driving (Part 2).\n",
    "\n",
    "\n",
    "for learning to drive autonomously. For that reason, We will use the car racing example from [Gym](http://gym.openai.com). As we show in the last assignment, Gym is a framework for developing reinforcement learning approaches. It supports different types of agents. Here, we will focus on vehicles.\n",
    "\n",
    "*Important*: You need to install [Gym](http://gym.openai.com) in your system. The installation can be done with pip or by installing from the sources. More information at [https://gym.openai.com/docs/#installation](https://gym.openai.com/docs/#installation).\n",
    "\n",
    "*Important*: The Python version of Gym and the Python version of PyTorch has to be the same. This is an important requirement for making the inference pipeline function.\n",
    "\n",
    "Note that all scripts should be self-contained and executed on *any* machine that has required libraries installed.\n",
    "\n",
    "The solutions of the assignment can be delivered as Python Notebooks or .py files. The visual results can delivered as pdf- or image-files.\n",
    "\n"
   ]
  },
  {
   "cell_type": "markdown",
   "metadata": {},
   "source": [
    "## 1. Model Preparation"
   ]
  },
  {
   "attachments": {},
   "cell_type": "markdown",
   "metadata": {},
   "source": [
    "In this exercise, the trained model from the last assignment is necessary for performing different tests. The setups is the same where the car can turn left, right, accelerate or decelerate. The input is an image with 96x96 pixels. The test set is the same from Assignment 3, i.e. 1000 test consecutive frames. The 1000 test samples also include a maneuver.\n",
    " \n",
    "*Task Output*: Consider a model that is trained without data augmentation from Assignment 3. Test the model on 1000 consecutive test frames, each with a different scenario: 1. upside-down frame flip, 2. left-right frame flip and brown street color. You should generate three different videos (mp4) for each test scenario. We recommend the library _cv2_ to generate the videos. On the first case all 1000 frames should flipped upside-down, on the second case all 1000 frames should flipped left-right and final on the last case the road should be painted brown for all 1000 frames. The deliverable of the exercise are the average test accuracy per scenario plus three videos highlighting driving the car in each test scenario.\n",
    "\n",
    "*Important*: The scripts should be **self-contained**."
   ]
  },
  {
   "cell_type": "markdown",
   "metadata": {},
   "source": [
    "## 2. Autonomous Driving"
   ]
  },
  {
   "attachments": {},
   "cell_type": "markdown",
   "metadata": {},
   "source": [
    "In this exercise, the trained model from the last assignment is necessary for end-to-end driving. The goal is to use the neural network to drive the car whitin the simulator. For the reason, both programs have to executed under the same python script. The simulator will provide with input data the neural network, while the neural network will provide the action to the simulator. Note: if the neural network is not able to drive in the simulator, you might need to retrain the model with more data.\n",
    " \n",
    "*Task Output*: Consider a model that is trained with the data augmentation from Assignment 3. Integrate the simulator in the inference script of the model. The output of the exercise is to launch the simulator and let the neural network perform the driving. This should be a live demo.\n",
    "\n",
    "*Important*: The scripts should be **self-contained**."
   ]
  },
  {
   "cell_type": "markdown",
   "metadata": {},
   "source": [
    "## 3. Recurrent Neural Network Model"
   ]
  },
  {
   "attachments": {},
   "cell_type": "markdown",
   "metadata": {},
   "source": [
    "In this task, the goal is to change one of more hidden layers of the MLP with a recurrent layer such as [RNN](https://pytorch.org/docs/stable/generated/torch.nn.RNN.html), [LSTM](https://pytorch.org/docs/stable/generated/torch.nn.LSTM.html#lstm) or [GRU](https://pytorch.org/docs/stable/generated/torch.nn.GRU.html#torch.nn.GRU). Instead of training a model that predicts the action independently from other images, we will train a model that keeps a state through the input frames. As a result, the proposed model action depends not only on the input frame but also on the past ones\n",
    "\n",
    " \n",
    "*Task Output*: The feed forward network should be replaced with a recurrent neural network (RNN). The number of cells can be freely chosen. Once the RNN is trained, it should be used for end-to-end driving as in the previous exercise. The output of the exercise is to launch the simulator and let the RNN perform the driving. This should be a live demo as well.\n",
    "\n",
    "*Important*: The scripts should be **self-contained**."
   ]
  },
  {
   "cell_type": "markdown",
   "metadata": {},
   "source": []
  }
 ],
 "metadata": {
  "kernelspec": {
   "display_name": "Python 2",
   "language": "python",
   "name": "python2"
  },
  "language_info": {
   "codemirror_mode": {
    "name": "ipython",
    "version": 2
   },
   "file_extension": ".py",
   "mimetype": "text/x-python",
   "name": "python",
   "nbconvert_exporter": "python",
   "pygments_lexer": "ipython2",
   "version": "2.7.14"
  }
 },
 "nbformat": 4,
 "nbformat_minor": 2
}
